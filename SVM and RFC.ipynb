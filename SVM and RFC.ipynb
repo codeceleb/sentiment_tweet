{
  "nbformat": 4,
  "nbformat_minor": 0,
  "metadata": {
    "colab": {
      "provenance": [],
      "authorship_tag": "ABX9TyO/8lTSzk+NuJX4muyJ9h2R",
      "include_colab_link": true
    },
    "kernelspec": {
      "name": "python3",
      "display_name": "Python 3"
    },
    "language_info": {
      "name": "python"
    }
  },
  "cells": [
    {
      "cell_type": "markdown",
      "metadata": {
        "id": "view-in-github",
        "colab_type": "text"
      },
      "source": [
        "<a href=\"https://colab.research.google.com/github/codeceleb/sentiment_tweet/blob/main/SVM%20and%20RFC.ipynb\" target=\"_parent\"><img src=\"https://colab.research.google.com/assets/colab-badge.svg\" alt=\"Open In Colab\"/></a>"
      ]
    },
    {
      "cell_type": "code",
      "execution_count": 14,
      "metadata": {
        "colab": {
          "base_uri": "https://localhost:8080/"
        },
        "id": "NyelfdWKJRDZ",
        "outputId": "564276b3-b664-4adc-d60e-19d79b2dd62b"
      },
      "outputs": [
        {
          "output_type": "stream",
          "name": "stdout",
          "text": [
            "Drive already mounted at /content/drive; to attempt to forcibly remount, call drive.mount(\"/content/drive\", force_remount=True).\n"
          ]
        }
      ],
      "source": [
        "from google.colab import drive\n",
        "import zipfile\n",
        "import pandas as pd\n",
        "from sklearn.feature_extraction.text import TfidfVectorizer\n",
        "from sklearn.model_selection import train_test_split\n",
        "from sklearn.svm import SVC\n",
        "from sklearn.ensemble import RandomForestClassifier\n",
        "from sklearn.metrics import accuracy_score\n",
        "\n",
        "# Mount Google Drive\n",
        "drive.mount('/content/drive')"
      ]
    },
    {
      "cell_type": "code",
      "source": [
        "\n",
        "\n",
        "# Set the path to your zip file\n",
        "zip_path = '/content/drive/MyDrive/Colab Notebooks/new archive.zip'\n",
        "\n",
        "# Set the path where you want to extract the contents of the zip file\n",
        "extract_path = '/content/drive/MyDrive/Colab Notebooks'\n",
        "\n",
        "# Extract the zip file\n",
        "with zipfile.ZipFile(zip_path, 'r') as zip_ref:\n",
        "    zip_ref.extractall(extract_path)\n",
        "\n",
        "# Load the sentiment dataset\n",
        "data_file =  extract_path+ '/sentiment_tweets3.csv'\n",
        "data = pd.read_csv(data_file)\n",
        "\n",
        "# Split the dataset into training and testing sets\n",
        "train_data, test_data, train_labels, test_labels = train_test_split(\n",
        "    data['message to examine'], data['label (depression result)'], test_size=0.2, random_state=42)\n",
        "\n",
        "# Create TF-IDF vectorizer\n",
        "vectorizer = TfidfVectorizer()\n",
        "train_vectors = vectorizer.fit_transform(train_data)\n",
        "test_vectors = vectorizer.transform(test_data)\n",
        "\n",
        "# Train the Support Vector Machine (SVM) classifier\n",
        "svm = SVC(kernel='linear')\n",
        "svm.fit(train_vectors, train_labels)\n",
        "\n",
        "# Predict the sentiment labels for test data\n",
        "predicted_labels = svm.predict(test_vectors)\n",
        "\n",
        "# Calculate accuracy\n",
        "accuracy = accuracy_score(test_labels, predicted_labels)\n",
        "print(\"Accuracy:\", accuracy)\n",
        "\n",
        "# Train the Random Forest classifier\n",
        "rf = RandomForestClassifier()\n",
        "rf.fit(train_vectors, train_labels)\n",
        "\n",
        "# Predict the sentiment labels for test data\n",
        "predicted_labels = rf.predict(test_vectors)\n",
        "\n",
        "# Calculate accuracy\n",
        "accuracy = accuracy_score(test_labels, predicted_labels)\n",
        "print(\"Random Forest Accuracy:\", accuracy)"
      ],
      "metadata": {
        "id": "jDcXMnMgJR5U",
        "colab": {
          "base_uri": "https://localhost:8080/"
        },
        "outputId": "5deca8fc-f0d8-418f-aaeb-facf17b9bce7"
      },
      "execution_count": 15,
      "outputs": [
        {
          "output_type": "stream",
          "name": "stdout",
          "text": [
            "Accuracy: 0.9956374212312167\n",
            "Random Forest Accuracy: 0.9714008725157538\n"
          ]
        }
      ]
    },
    {
      "cell_type": "code",
      "source": [],
      "metadata": {
        "id": "kkO9a-F3JnVE"
      },
      "execution_count": null,
      "outputs": []
    }
  ]
}